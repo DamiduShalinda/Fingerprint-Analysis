{
 "cells": [
  {
   "cell_type": "code",
   "execution_count": 1,
   "id": "7f2085fc",
   "metadata": {
    "_cell_guid": "b1076dfc-b9ad-4769-8c92-a6c4dae69d19",
    "_uuid": "8f2839f25d086af736a60e9eeb907d3b93b6e0e5",
    "execution": {
     "iopub.execute_input": "2024-08-12T18:03:07.100173Z",
     "iopub.status.busy": "2024-08-12T18:03:07.099492Z",
     "iopub.status.idle": "2024-08-12T18:03:13.764194Z",
     "shell.execute_reply": "2024-08-12T18:03:13.763403Z",
     "shell.execute_reply.started": "2024-08-12T05:22:32.150066Z"
    },
    "papermill": {
     "duration": 6.696127,
     "end_time": "2024-08-12T18:03:13.764357",
     "exception": false,
     "start_time": "2024-08-12T18:03:07.068230",
     "status": "completed"
    },
    "tags": []
   },
   "outputs": [],
   "source": [
    "import numpy as np\n",
    "import cv2\n",
    "import os\n",
    "import random\n",
    "from tensorflow.keras.layers import Input, Dense, Flatten, Conv2D, MaxPooling2D\n",
    "from tensorflow.keras.models import Model\n",
    "from sklearn.metrics import accuracy_score, precision_score, recall_score, confusion_matrix\n",
    "import seaborn as sns\n",
    "import matplotlib.pyplot as plt"
   ]
  },
  {
   "cell_type": "code",
   "execution_count": 2,
   "id": "0db3b99f",
   "metadata": {
    "execution": {
     "iopub.execute_input": "2024-08-12T18:03:13.808284Z",
     "iopub.status.busy": "2024-08-12T18:03:13.807634Z",
     "iopub.status.idle": "2024-08-12T18:03:13.811005Z",
     "shell.execute_reply": "2024-08-12T18:03:13.810419Z",
     "shell.execute_reply.started": "2024-08-12T05:22:38.693017Z"
    },
    "papermill": {
     "duration": 0.028856,
     "end_time": "2024-08-12T18:03:13.811144",
     "exception": false,
     "start_time": "2024-08-12T18:03:13.782288",
     "status": "completed"
    },
    "tags": []
   },
   "outputs": [],
   "source": [
    "# Function to extract label from image filename\n",
    "def extract_label(img_path, train=True):\n",
    "    filename, _ = os.path.splitext(os.path.basename(img_path))\n",
    "    subject_id, etc = filename.split('__')\n",
    "    if train:\n",
    "        gender, lr, finger, _, _ = etc.split('_')\n",
    "    else:\n",
    "        gender, lr, finger, _ = etc.split('_')\n",
    "\n",
    "    gender = 0 if gender == 'M' else 1  # 0 for Male, 1 for Female\n",
    "    lr = 0 if lr == 'Left' else 1       # 0 for Left, 1 for Right\n",
    "    finger_mapping = {'thumb': 0, 'index': 1, 'middle': 2, 'ring': 3, 'little': 4}\n",
    "    finger = finger_mapping.get(finger, -1)  # Map fingers to numerical values\n",
    "\n",
    "    return np.array([gender, lr, finger], dtype=np.uint16)"
   ]
  },
  {
   "cell_type": "code",
   "execution_count": 3,
   "id": "5767a642",
   "metadata": {
    "execution": {
     "iopub.execute_input": "2024-08-12T18:03:13.853776Z",
     "iopub.status.busy": "2024-08-12T18:03:13.853116Z",
     "iopub.status.idle": "2024-08-12T18:03:13.855455Z",
     "shell.execute_reply": "2024-08-12T18:03:13.855951Z",
     "shell.execute_reply.started": "2024-08-12T05:22:38.702107Z"
    },
    "papermill": {
     "duration": 0.027351,
     "end_time": "2024-08-12T18:03:13.856124",
     "exception": false,
     "start_time": "2024-08-12T18:03:13.828773",
     "status": "completed"
    },
    "tags": []
   },
   "outputs": [],
   "source": [
    "IMG_SIZE = 96\n",
    "\n",
    "# Function to load images and labels from a directory\n",
    "def load_data(path, train=True):\n",
    "    print(\"Loading data from:\", path)\n",
    "    data = []\n",
    "    for img in os.listdir(path):\n",
    "        try:\n",
    "            img_array = cv2.imread(os.path.join(path, img), cv2.IMREAD_GRAYSCALE)\n",
    "            img_resize = cv2.resize(img_array, (IMG_SIZE, IMG_SIZE))\n",
    "            label = extract_label(os.path.join(path, img), train)\n",
    "            data.append([label, img_resize])\n",
    "        except Exception as e:\n",
    "            pass\n",
    "    return data"
   ]
  },
  {
   "cell_type": "code",
   "execution_count": 4,
   "id": "2b9da967",
   "metadata": {
    "execution": {
     "iopub.execute_input": "2024-08-12T18:03:13.898829Z",
     "iopub.status.busy": "2024-08-12T18:03:13.898145Z",
     "iopub.status.idle": "2024-08-12T18:09:05.866562Z",
     "shell.execute_reply": "2024-08-12T18:09:05.867113Z",
     "shell.execute_reply.started": "2024-08-12T05:22:38.721439Z"
    },
    "papermill": {
     "duration": 351.993258,
     "end_time": "2024-08-12T18:09:05.867302",
     "exception": false,
     "start_time": "2024-08-12T18:03:13.874044",
     "status": "completed"
    },
    "tags": []
   },
   "outputs": [
    {
     "name": "stdout",
     "output_type": "stream",
     "text": [
      "Loading data from: ../input/socofing/SOCOFing/Altered/Altered-Easy\n",
      "Loading data from: ../input/socofing/SOCOFing/Altered/Altered-Medium\n",
      "Loading data from: ../input/socofing/SOCOFing/Altered/Altered-Hard\n",
      "Loading data from: ../input/socofing/SOCOFing/Real\n"
     ]
    },
    {
     "name": "stderr",
     "output_type": "stream",
     "text": [
      "<string>:6: VisibleDeprecationWarning: Creating an ndarray from ragged nested sequences (which is a list-or-tuple of lists-or-tuples-or ndarrays with different lengths or shapes) is deprecated. If you meant to do this, you must specify 'dtype=object' when creating the ndarray.\n"
     ]
    }
   ],
   "source": [
    "# Paths to datasets\n",
    "Real_path = \"../input/socofing/SOCOFing/Real\"\n",
    "Easy_path = \"../input/socofing/SOCOFing/Altered/Altered-Easy\"\n",
    "Medium_path = \"../input/socofing/SOCOFing/Altered/Altered-Medium\"\n",
    "Hard_path = \"../input/socofing/SOCOFing/Altered/Altered-Hard\"\n",
    "\n",
    "# Loading data\n",
    "easy_data = load_data(Easy_path, train=True)\n",
    "medium_data = load_data(Medium_path, train=True)\n",
    "hard_data = load_data(Hard_path, train=True)\n",
    "test = load_data(Real_path, train=False)\n",
    "\n",
    "# Combine and shuffle data\n",
    "data = np.concatenate([easy_data, medium_data, hard_data], axis=0)\n",
    "random.shuffle(data)\n",
    "random.shuffle(test)"
   ]
  },
  {
   "cell_type": "code",
   "execution_count": 5,
   "id": "b658b6bb",
   "metadata": {
    "execution": {
     "iopub.execute_input": "2024-08-12T18:09:05.992444Z",
     "iopub.status.busy": "2024-08-12T18:09:05.945509Z",
     "iopub.status.idle": "2024-08-12T18:09:07.309550Z",
     "shell.execute_reply": "2024-08-12T18:09:07.309005Z",
     "shell.execute_reply.started": "2024-08-12T05:29:35.071318Z"
    },
    "papermill": {
     "duration": 1.422907,
     "end_time": "2024-08-12T18:09:07.309702",
     "exception": false,
     "start_time": "2024-08-12T18:09:05.886795",
     "status": "completed"
    },
    "tags": []
   },
   "outputs": [],
   "source": [
    "X, y = [], []\n",
    "for label, feature in data:\n",
    "    y.append(label)\n",
    "    X.append(feature)\n",
    "\n",
    "X_train = np.array(X).reshape(-1, IMG_SIZE, IMG_SIZE, 1) / 255  # Normalize images\n",
    "y_train = np.array(y)"
   ]
  },
  {
   "cell_type": "code",
   "execution_count": 6,
   "id": "bdffb9ff",
   "metadata": {
    "execution": {
     "iopub.execute_input": "2024-08-12T18:09:07.357730Z",
     "iopub.status.busy": "2024-08-12T18:09:07.356572Z",
     "iopub.status.idle": "2024-08-12T18:09:07.360301Z",
     "shell.execute_reply": "2024-08-12T18:09:07.359803Z",
     "shell.execute_reply.started": "2024-08-12T05:29:36.470694Z"
    },
    "papermill": {
     "duration": 0.031271,
     "end_time": "2024-08-12T18:09:07.360451",
     "exception": false,
     "start_time": "2024-08-12T18:09:07.329180",
     "status": "completed"
    },
    "tags": []
   },
   "outputs": [],
   "source": [
    "# Function to create a base CNN model\n",
    "def create_base_cnn(input_shape):\n",
    "    inputs = Input(shape=input_shape)\n",
    "    x = Conv2D(32, (3, 3), activation='relu')(inputs)\n",
    "    x = MaxPooling2D((2, 2))(x)\n",
    "    x = Conv2D(64, (3, 3), activation='relu')(x)\n",
    "    x = MaxPooling2D((2, 2))(x)\n",
    "    x = Flatten()(x)\n",
    "    x = Dense(128, activation='relu')(x)\n",
    "    return inputs, x"
   ]
  },
  {
   "cell_type": "code",
   "execution_count": 7,
   "id": "80adc793",
   "metadata": {
    "execution": {
     "iopub.execute_input": "2024-08-12T18:09:07.404830Z",
     "iopub.status.busy": "2024-08-12T18:09:07.403914Z",
     "iopub.status.idle": "2024-08-12T18:09:10.141711Z",
     "shell.execute_reply": "2024-08-12T18:09:10.141163Z",
     "shell.execute_reply.started": "2024-08-12T05:29:36.478207Z"
    },
    "papermill": {
     "duration": 2.761843,
     "end_time": "2024-08-12T18:09:10.141856",
     "exception": false,
     "start_time": "2024-08-12T18:09:07.380013",
     "status": "completed"
    },
    "tags": []
   },
   "outputs": [],
   "source": [
    "# Create separate models for each task\n",
    "input_shape = (IMG_SIZE, IMG_SIZE, 1)\n",
    "inputs, base_output = create_base_cnn(input_shape)"
   ]
  },
  {
   "cell_type": "code",
   "execution_count": 8,
   "id": "f203437d",
   "metadata": {
    "execution": {
     "iopub.execute_input": "2024-08-12T18:09:10.186846Z",
     "iopub.status.busy": "2024-08-12T18:09:10.185907Z",
     "iopub.status.idle": "2024-08-12T18:09:10.240151Z",
     "shell.execute_reply": "2024-08-12T18:09:10.239584Z",
     "shell.execute_reply.started": "2024-08-12T05:29:39.136842Z"
    },
    "papermill": {
     "duration": 0.078443,
     "end_time": "2024-08-12T18:09:10.240306",
     "exception": false,
     "start_time": "2024-08-12T18:09:10.161863",
     "status": "completed"
    },
    "tags": []
   },
   "outputs": [],
   "source": [
    "# Gender model\n",
    "gender_output = Dense(1, activation='sigmoid', name='gender_output')(base_output)\n",
    "gender_model = Model(inputs=inputs, outputs=gender_output)\n",
    "gender_model.compile(optimizer='adam', loss='binary_crossentropy', metrics=['accuracy'])\n",
    "\n",
    "# Hand model\n",
    "hand_output = Dense(1, activation='sigmoid', name='hand_output')(base_output)\n",
    "hand_model = Model(inputs=inputs, outputs=hand_output)\n",
    "hand_model.compile(optimizer='adam', loss='binary_crossentropy', metrics=['accuracy'])\n",
    "\n",
    "# Finger model\n",
    "finger_output = Dense(5, activation='softmax', name='finger_output')(base_output)\n",
    "finger_model = Model(inputs=inputs, outputs=finger_output)\n",
    "finger_model.compile(optimizer='adam', loss='sparse_categorical_crossentropy', metrics=['accuracy'])"
   ]
  },
  {
   "cell_type": "code",
   "execution_count": 9,
   "id": "91414b49",
   "metadata": {
    "execution": {
     "iopub.execute_input": "2024-08-12T18:09:10.286850Z",
     "iopub.status.busy": "2024-08-12T18:09:10.286005Z",
     "iopub.status.idle": "2024-08-12T18:09:10.288374Z",
     "shell.execute_reply": "2024-08-12T18:09:10.287891Z",
     "shell.execute_reply.started": "2024-08-12T05:29:39.190212Z"
    },
    "papermill": {
     "duration": 0.027849,
     "end_time": "2024-08-12T18:09:10.288527",
     "exception": false,
     "start_time": "2024-08-12T18:09:10.260678",
     "status": "completed"
    },
    "tags": []
   },
   "outputs": [],
   "source": [
    "# Function to get predictions from all three models\n",
    "def get_combined_output(X):\n",
    "    gender_pred = (gender_model.predict(X) > 0.5).astype(int)\n",
    "    hand_pred = (hand_model.predict(X) > 0.5).astype(int)\n",
    "    finger_pred = np.argmax(finger_model.predict(X), axis=1)\n",
    "    return np.concatenate([gender_pred, hand_pred, finger_pred.reshape(-1, 1)], axis=1)"
   ]
  },
  {
   "cell_type": "code",
   "execution_count": 10,
   "id": "6cc1525a",
   "metadata": {
    "execution": {
     "iopub.execute_input": "2024-08-12T18:09:10.337755Z",
     "iopub.status.busy": "2024-08-12T18:09:10.337014Z",
     "iopub.status.idle": "2024-08-12T18:09:19.417810Z",
     "shell.execute_reply": "2024-08-12T18:09:19.417097Z",
     "shell.execute_reply.started": "2024-08-12T05:29:39.198583Z"
    },
    "papermill": {
     "duration": 9.108646,
     "end_time": "2024-08-12T18:09:19.417954",
     "exception": false,
     "start_time": "2024-08-12T18:09:10.309308",
     "status": "completed"
    },
    "tags": []
   },
   "outputs": [],
   "source": [
    "# Example prediction on test data\n",
    "X_test = np.array([feature for _, feature in test]).reshape(-1, IMG_SIZE, IMG_SIZE, 1) / 255\n",
    "y_test_combined = np.array([label for label, _ in test])\n",
    "\n",
    "combined_predictions = get_combined_output(X_test)"
   ]
  },
  {
   "cell_type": "code",
   "execution_count": 11,
   "id": "4861a7be",
   "metadata": {
    "execution": {
     "iopub.execute_input": "2024-08-12T18:09:19.462654Z",
     "iopub.status.busy": "2024-08-12T18:09:19.461966Z",
     "iopub.status.idle": "2024-08-12T18:09:19.467988Z",
     "shell.execute_reply": "2024-08-12T18:09:19.467415Z",
     "shell.execute_reply.started": "2024-08-12T05:29:48.185464Z"
    },
    "papermill": {
     "duration": 0.030408,
     "end_time": "2024-08-12T18:09:19.468128",
     "exception": false,
     "start_time": "2024-08-12T18:09:19.437720",
     "status": "completed"
    },
    "tags": []
   },
   "outputs": [
    {
     "name": "stdout",
     "output_type": "stream",
     "text": [
      "Combined Model Accuracy: 0.3023\n"
     ]
    }
   ],
   "source": [
    "# Evaluate the combined predictions\n",
    "combined_accuracy = accuracy_score(y_test_combined.flatten(), combined_predictions.flatten())\n",
    "print(f\"Combined Model Accuracy: {combined_accuracy:.4f}\")"
   ]
  },
  {
   "cell_type": "code",
   "execution_count": 12,
   "id": "23c0693f",
   "metadata": {
    "execution": {
     "iopub.execute_input": "2024-08-12T18:09:19.516409Z",
     "iopub.status.busy": "2024-08-12T18:09:19.515527Z",
     "iopub.status.idle": "2024-08-12T18:09:19.517989Z",
     "shell.execute_reply": "2024-08-12T18:09:19.517480Z",
     "shell.execute_reply.started": "2024-08-12T05:29:48.194385Z"
    },
    "papermill": {
     "duration": 0.029978,
     "end_time": "2024-08-12T18:09:19.518121",
     "exception": false,
     "start_time": "2024-08-12T18:09:19.488143",
     "status": "completed"
    },
    "tags": []
   },
   "outputs": [],
   "source": [
    "# Separate Accuracy, Precision, Recall, and Confusion Matrix for Each Task\n",
    "\n",
    "def evaluate_task(y_true, y_pred, task_name):\n",
    "    accuracy = accuracy_score(y_true, y_pred)\n",
    "    precision = precision_score(y_true, y_pred, average='macro')\n",
    "    recall = recall_score(y_true, y_pred, average='macro')\n",
    "    cm = confusion_matrix(y_true, y_pred)\n",
    "    \n",
    "    print(f\"{task_name} - Accuracy: {accuracy:.4f}, Precision: {precision:.4f}, Recall: {recall:.4f}\")\n",
    "    \n",
    "    plt.figure(figsize=(6, 4))\n",
    "    sns.heatmap(cm, annot=True, fmt='d', cmap='Blues')\n",
    "    plt.title(f'Confusion Matrix - {task_name}')\n",
    "    plt.xlabel('Predicted')\n",
    "    plt.ylabel('Actual')\n",
    "    plt.show()"
   ]
  },
  {
   "cell_type": "code",
   "execution_count": 13,
   "id": "65ab43dd",
   "metadata": {
    "execution": {
     "iopub.execute_input": "2024-08-12T18:09:19.563981Z",
     "iopub.status.busy": "2024-08-12T18:09:19.563040Z",
     "iopub.status.idle": "2024-08-12T18:09:19.898139Z",
     "shell.execute_reply": "2024-08-12T18:09:19.898641Z",
     "shell.execute_reply.started": "2024-08-12T05:29:48.204190Z"
    },
    "papermill": {
     "duration": 0.360581,
     "end_time": "2024-08-12T18:09:19.898809",
     "exception": false,
     "start_time": "2024-08-12T18:09:19.538228",
     "status": "completed"
    },
    "tags": []
   },
   "outputs": [
    {
     "name": "stdout",
     "output_type": "stream",
     "text": [
      "Gender Task - Accuracy: 0.2050, Precision: 0.1025, Recall: 0.5000\n"
     ]
    },
    {
     "name": "stderr",
     "output_type": "stream",
     "text": [
      "/opt/conda/lib/python3.7/site-packages/sklearn/metrics/_classification.py:1221: UndefinedMetricWarning: Precision is ill-defined and being set to 0.0 in labels with no predicted samples. Use `zero_division` parameter to control this behavior.\n",
      "  _warn_prf(average, modifier, msg_start, len(result))\n"
     ]
    },
    {
     "data": {
      "image/png": "[encoded data removed]",
      "text/plain": [
       "<Figure size 432x288 with 2 Axes>"
      ]
     },
     "metadata": {
      "needs_background": "light"
     },
     "output_type": "display_data"
    }
   ],
   "source": [
    "# Evaluate Gender Task\n",
    "evaluate_task(y_test_combined[:, 0], combined_predictions[:, 0], \"Gender Task\")"
   ]
  },
  {
   "cell_type": "code",
   "execution_count": 14,
   "id": "49e0b999",
   "metadata": {
    "execution": {
     "iopub.execute_input": "2024-08-12T18:09:19.947625Z",
     "iopub.status.busy": "2024-08-12T18:09:19.946936Z",
     "iopub.status.idle": "2024-08-12T18:09:20.206323Z",
     "shell.execute_reply": "2024-08-12T18:09:20.206857Z",
     "shell.execute_reply.started": "2024-08-12T05:29:48.528939Z"
    },
    "papermill": {
     "duration": 0.286343,
     "end_time": "2024-08-12T18:09:20.207032",
     "exception": false,
     "start_time": "2024-08-12T18:09:19.920689",
     "status": "completed"
    },
    "tags": []
   },
   "outputs": [
    {
     "name": "stdout",
     "output_type": "stream",
     "text": [
      "Hand Task - Accuracy: 0.4987, Precision: 0.4163, Recall: 0.4987\n"
     ]
    },
    {
     "data": {
      "image/png": "[encoded data removed]",
      "text/plain": [
       "<Figure size 432x288 with 2 Axes>"
      ]
     },
     "metadata": {
      "needs_background": "light"
     },
     "output_type": "display_data"
    }
   ],
   "source": [
    "# Evaluate Hand Task\n",
    "evaluate_task(y_test_combined[:, 1], combined_predictions[:, 1], \"Hand Task\")"
   ]
  },
  {
   "cell_type": "code",
   "execution_count": 15,
   "id": "d8052156",
   "metadata": {
    "execution": {
     "iopub.execute_input": "2024-08-12T18:09:20.258604Z",
     "iopub.status.busy": "2024-08-12T18:09:20.257889Z",
     "iopub.status.idle": "2024-08-12T18:09:20.608990Z",
     "shell.execute_reply": "2024-08-12T18:09:20.608318Z",
     "shell.execute_reply.started": "2024-08-12T05:29:48.717881Z"
    },
    "papermill": {
     "duration": 0.378865,
     "end_time": "2024-08-12T18:09:20.609127",
     "exception": false,
     "start_time": "2024-08-12T18:09:20.230262",
     "status": "completed"
    },
    "tags": []
   },
   "outputs": [
    {
     "name": "stdout",
     "output_type": "stream",
     "text": [
      "Finger Task - Accuracy: 0.2033, Precision: 0.1280, Recall: 0.2033\n"
     ]
    },
    {
     "data": {
      "image/png": "[encoded data removed]",
      "text/plain": [
       "<Figure size 432x288 with 2 Axes>"
      ]
     },
     "metadata": {
      "needs_background": "light"
     },
     "output_type": "display_data"
    }
   ],
   "source": [
    "# Evaluate Finger Task\n",
    "evaluate_task(y_test_combined[:, 2], combined_predictions[:, 2], \"Finger Task\")"
   ]
  }
 ],
 "metadata": {
  "kaggle": {
   "accelerator": "gpu",
   "dataSources": [
    {
     "datasetId": 38300,
     "sourceId": 58521,
     "sourceType": "datasetVersion"
    }
   ],
   "dockerImageVersionId": 30163,
   "isGpuEnabled": true,
   "isInternetEnabled": true,
   "language": "python",
   "sourceType": "notebook"
  },
  "kernelspec": {
   "display_name": "Python 3",
   "language": "python",
   "name": "python3"
  },
  "language_info": {
   "codemirror_mode": {
    "name": "ipython",
    "version": 3
   },
   "file_extension": ".py",
   "mimetype": "text/x-python",
   "name": "python",
   "nbconvert_exporter": "python",
   "pygments_lexer": "ipython3",
   "version": "3.7.12"
  },
  "papermill": {
   "default_parameters": {},
   "duration": 386.667945,
   "end_time": "2024-08-12T18:09:24.001207",
   "environment_variables": {},
   "exception": null,
   "input_path": "__notebook__.ipynb",
   "output_path": "__notebook__.ipynb",
   "parameters": {},
   "start_time": "2024-08-12T18:02:57.333262",
   "version": "2.3.3"
  }
 },
 "nbformat": 4,
 "nbformat_minor": 5
}
